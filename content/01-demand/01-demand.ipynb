{
 "cells": [
  {
   "cell_type": "code",
   "execution_count": 1,
   "metadata": {
    "cell_id": "211eaf07-febe-480e-9d9d-f7152cca2a4f",
    "tags": [
     "remove_cell"
    ]
   },
   "outputs": [],
   "source": [
    "from datascience import *\n",
    "\n",
    "import sympy\n",
    "import matplotlib.pyplot as plt\n",
    "import matplotlib as mpl\n",
    "import matplotlib.patches as patches\n",
    "plt.style.use('seaborn-muted')\n",
    "%matplotlib inline\n",
    "\n",
    "from IPython.display import display\n",
    "import numpy as np\n",
    "import pandas as pd\n",
    "solve = lambda x,y: sympy.solve(x-y)[0] if len(sympy.solve(x-y))==1 else \"Not Single Solution\"\n",
    "import warnings\n",
    "warnings.filterwarnings('ignore')"
   ]
  },
  {
   "cell_type": "markdown",
   "metadata": {},
   "source": [
    "# Demand Curves\n",
    "\n",
    "In this chapter, we will explore one of the most foundational yet important concepts in economics: demand curves. The demand curve shows the graphical relationship between the price of a good or service and the quantity demanded for it over a given period of time. \n",
    "In other words, it shows the quantity of goods or services consumers are willing to buy at each market price. \n",
    "The quantity of goods or services demanded or supplied can be modeled as a function of price, as in:  \n",
    "\n",
    "$$\\text{Quantity} = f(\\text{Price})$$\n",
    "\n",
    "Notably, the curve is downwards sloping because of the law of demand, which states that *as the price of a good or service increases, the quantity demanded for it decreases, assuming all other factors are held constant*. \n",
    "\n",
    "This should make intuitive sense: as prices increase, fewer people are willing to pay the higher price for the same good. On the other hand, as prices decrease, more people are willing to pay the lower price for the same good. Hence, the quantity demanded of a good or service has an inverse relationship with the price. \n",
    "\n",
    "For now, let's assume that the relationship is somewhat linear and can be described as \n",
    "\n",
    "$$\\text{Quantity}_{d}=-a \\cdot \\text{Price}_{d} + b$$\n",
    "\n",
    "We can interpret the equation above as follows: *as the price of a unit increases by 1, there is an $a$ unit decrease in the quantity demanded.* For example, $\\text{Quantity}_{d}=-2 \\cdot \\text{Price}_{d} + 3$ would suggest that a price increase by 1 would decrease overall quantity demanded in the market by 2. \n",
    "\n",
    "Price can also be measured as function of quantity to denote demand. In this case, we use an inverse demand function, as it is the inverse function of the demand function above. Since price is a function of quantity, \n",
    "\n",
    "$$\\text{Price} = f(\\text{Quantity})$$\n",
    "\n",
    "As we are solving for the inverse of the previous demand function, the inverse demand function for the example above is \n",
    "\n",
    "$$\\text{Price}_{d}=-\\frac{1}{2} \\cdot \\text{Quantity}_{d} + \\dfrac{3}{2}$$"
   ]
  },
  {
   "cell_type": "markdown",
   "metadata": {
    "cell_id": "9d085203-725e-45dc-a43b-51a413898d18"
   },
   "source": [
    "## Movement and the Demand Curve "
   ]
  },
  {
   "cell_type": "markdown",
   "metadata": {
    "cell_id": "1f27b4ab-c651-42f6-a096-42887f3b7717"
   },
   "source": [
    "### Shifts in the Demand Curve\n",
    "The demand curve can shift in or out based on exogenous events that occur outside of the market. \n",
    "Some factors other than a change in price of the good/service could be changes in:\n",
    "\n",
    "*  buyer's income\n",
    "*  consumer preferences\n",
    "*  expectation of future price/supply/demand\n",
    "*  changes in the price of related goods\n",
    "\n",
    "If any of these changes occur and causes the demand for the selected good/service to decrease, then the curve shifts to the left as less of the good or service will be demanded at every price. Similarly, if any of these changes causes the demand for the selected good/service to increase, the curve would shift to the right. This signifies that more of the good or service will be demanded at every price. For example, consumers' incomes decreased during the 2008 recession, thus decreasing overall buying power and shifting the demand curve leftwards; a left shift in the demand curve suggests that consumers would purchase fewer quantities of goods at every price.\n"
   ]
  },
  {
   "cell_type": "code",
   "execution_count": 5,
   "metadata": {
    "tags": [
     "remove_input"
    ]
   },
   "outputs": [],
   "source": [
    "xs = np.linspace(-10, 20, 100)\n",
    "ys = -3 * xs + 8\n",
    "ys2 = -3 * xs + 3\n",
    "\n",
    "arx = 5\n",
    "ary = -8\n",
    "ardx = -1\n",
    "ardy = 0\n",
    "\n",
    "fig = plt.figure(figsize=[7,7])\n",
    "plt.plot(xs, ys, label=\"Original Demand Curve\")\n",
    "plt.plot(xs, ys2, label=\"Shifted Demand Curve\")\n",
    "plt.arrow(arx, ary, ardx, ardy, head_width=0.8, head_length=0.5, length_includes_head=True)\n",
    "plt.xticks([])\n",
    "plt.yticks([])\n",
    "plt.xlabel(\"Quantity\", size=16)\n",
    "plt.ylabel(\"Price\", size=16)\n",
    "plt.xlim([-0.5, 10.5])\n",
    "plt.ylim([-25, 10])\n",
    "plt.legend()\n",
    "fig.savefig('orig-shifted-demand.png', bbox_inches='tight')\n",
    "plt.close(fig) \n"
   ]
  },
  {
   "cell_type": "markdown",
   "metadata": {},
   "source": [
    "```{figure} orig-shifted-demand.png\n",
    "---\n",
    "name: orig-shifted-demand.png\n",
    "alt: Graph of shifting demand curve\n",
    "---\n",
    "Fig. Graph of a shifting demand curve\n",
    "```"
   ]
  },
  {
   "cell_type": "markdown",
   "metadata": {
    "tags": [
     "remove_input"
    ]
   },
   "source": [
    "### Movements along the Demand Curve"
   ]
  },
  {
   "cell_type": "markdown",
   "metadata": {},
   "source": [
    "Above, we looked at when exogenous events affect the demand curve. Another concept is movements along the demand curve, which would be considered endogenous events. In movements along the demand curve, changes in price affect the quantity demanded of the good or service. This assumes ceteris paribus, which means holding all other factors constant. This phenomenom is called the Movement of the Demand Curve. With a change in price, the quantity demanded for the good or service can shift the quantity demanded either upward or downward on the demand curve. For example, consider the shift on the graph below from quantity $q_1$ at price $p_1$ to quantity $q_2$ at price $p_2$.\n",
    "\n",
    "[Following image is a graph of a shift along a demand curve]"
   ]
  },
  {
   "cell_type": "code",
   "execution_count": 3,
   "metadata": {
    "tags": [
     "remove_input"
    ]
   },
   "outputs": [
    {
     "data": {
      "image/png": "[encoded data removed]",
      "text/plain": [
       "<Figure size 504x504 with 1 Axes>"
      ]
     },
     "metadata": {
      "needs_background": "light"
     },
     "output_type": "display_data"
    }
   ],
   "source": [
    "xs = np.linspace(-10, 20, 100)\n",
    "ys = -3 * xs + 8\n",
    "\n",
    "q_1, p_1 = 1, 5\n",
    "q_2, p_2 = 8, -16\n",
    "\n",
    "plt.figure(figsize=[7,7])\n",
    "plt.plot(xs, ys)\n",
    "plt.scatter([q_1, q_2], [p_1, p_2], s=200, color=\"g\", zorder=15)\n",
    "plt.arrow(q_1, p_1, q_2 - q_1, p_2 - p_1, color=\"tab:orange\", width=.1, head_length=1.5, head_width=0.5, length_includes_head=True, zorder=-1)\n",
    "\n",
    "# (q_1, p_1)\n",
    "plt.vlines(q_1, -1000, p_1, linestyle=\"dashed\")\n",
    "plt.hlines(p_1, -1000, q_1, linestyle=\"dashed\")\n",
    "\n",
    "# (q_2, p_2)\n",
    "plt.vlines(q_2, -1000, p_2, linestyle=\"dashed\")\n",
    "plt.hlines(p_2, -1000, q_2, linestyle=\"dashed\")\n",
    "\n",
    "plt.xticks([q_1, q_2], [r\"$q_1$\", r\"$q_2$\"], size=14)\n",
    "plt.yticks([p_1, p_2], [r\"$p_1$\", r\"$p_2$\"], size=14)\n",
    "plt.xlabel(\"Quantity\", size=16)\n",
    "plt.ylabel(\"Price\", size=16)\n",
    "plt.xlim([-0.5, 10.5])\n",
    "plt.ylim([-25, 10]);"
   ]
  },
  {
   "cell_type": "markdown",
   "metadata": {},
   "source": [
    "## Income and Substitution Effect"
   ]
  },
  {
   "cell_type": "markdown",
   "metadata": {},
   "source": [
    "Changes in the price of a good also leads to 2 effects, which can help explain the law of demand:\n",
    "\n",
    "- **Income Effect**: Examines how the change in price of the good affects income, which then affects the quantity demanded of a good or service. If the price of a good increases, it would require the consumer to spend more of their income on the good. This dissuades consumers from purchasing more of the good, decreasing the quantity demanded. If the price of a good decreases, consumers would spend less money to receive the same good. This increases the quantity demanded for the good, because consumers would have more income remaining to purchase additional units, given the increase in the amount of purchasing power required to obtain the good.\n",
    "- **Substitution Effect**: Examines how the change in price of the good affects its demand relative to other goods and services. If the price of a good increases, then consumers might look at similar goods that function in the same way or yield an equivalent amount of utility as the original good. Consumers are effectively shifting or substituting away from the relatively more expensive good to a cheaper alternative, thereby decreasing the quantity demanded for the original good. The converse is also true: if the price of a good decreases, then consumers that currently purchase other similar goods might start consuming this good instead, because it would cost less money for them to obtain.\n",
    "\n",
    "\n",
    "For example, if the price of gas increases, the higher price for gas might encourage consumers to look at purchasing more efficient cars, such as electric or hybrid cars, thus decreasing the demand for gas. This is the subsitution effect. If the consumer stays with their original car, then they would have less disposable income after purchasing the now-more-expensive gas, so they might purchase less gas. This is the income effect.  "
   ]
  },
  {
   "cell_type": "markdown",
   "metadata": {},
   "source": [
    " "
   ]
  }
 ],
 "metadata": {
  "deepnote_execution_queue": [],
  "deepnote_notebook_id": "f509604e-9b0f-4e84-8507-5059a251e9d4",
  "kernelspec": {
   "display_name": "Python 3",
   "language": "python",
   "name": "python3"
  },
  "language_info": {
   "codemirror_mode": {
    "name": "ipython",
    "version": 3
   },
   "file_extension": ".py",
   "mimetype": "text/x-python",
   "name": "python",
   "nbconvert_exporter": "python",
   "pygments_lexer": "ipython3",
   "version": "3.12.1"
  }
 },
 "nbformat": 4,
 "nbformat_minor": 4
}
